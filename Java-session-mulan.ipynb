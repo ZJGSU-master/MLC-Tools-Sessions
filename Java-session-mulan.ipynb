{
 "cells": [
  {
   "cell_type": "code",
   "execution_count": 1,
   "metadata": {},
   "outputs": [],
   "source": [
    "import mulan.classifier.*;\n",
    "import mulan.data.*;\n",
    "import mulan.classifier.transformation.ClassifierChain;\n",
    "import mulan.classifier.lazy.MLkNN;\n",
    "import mulan.evaluation.*;\n",
    "import mulan.evaluation.measure.*;\n",
    "import weka.classifiers.trees.J48;\n",
    "import weka.core.Utils"
   ]
  },
  {
   "cell_type": "code",
   "execution_count": 2,
   "metadata": {},
   "outputs": [],
   "source": [
    "// Load the train and test partitions from ARFF files\n",
    "var train = new MultiLabelInstances(\"emotions-train.arff\", \"emotions.xml\");\n",
    "var test = new MultiLabelInstances(\"emotions-test.arff\", \"emotions.xml\")"
   ]
  },
  {
   "cell_type": "code",
   "execution_count": 3,
   "metadata": {},
   "outputs": [
    {
     "name": "stdout",
     "output_type": "stream",
     "text": [
      "Instances: 391, Labels: 6, Card: 1.813299232736573\n"
     ]
    }
   ],
   "source": [
    "// Some data exploration\n",
    "System.out.println(\n",
    "    \"Instances: \" + train.getNumInstances() +    \n",
    "    \", Labels: \" + train.getNumLabels() + \n",
    "    \", Card: \" + train.getCardinality())"
   ]
  },
  {
   "cell_type": "code",
   "execution_count": 4,
   "metadata": {},
   "outputs": [],
   "source": [
    "// A transformation-based classifier and an adapted classifier\n",
    "var class1 = new ClassifierChain(new J48());\n",
    "var class2 = new MLkNN(5, 1.0);"
   ]
  },
  {
   "cell_type": "code",
   "execution_count": 5,
   "metadata": {},
   "outputs": [],
   "source": [
    "// Train both classifiers\n",
    "class1.build(train);\n",
    "class2.build(train)"
   ]
  },
  {
   "cell_type": "code",
   "execution_count": 6,
   "metadata": {},
   "outputs": [],
   "source": [
    "// Define the evaluation metrics to obtain\n",
    "var evaluator = new Evaluator();\n",
    "List<Measure> metrics = Arrays.asList(\n",
    "    new HammingLoss(), new ExampleBasedAccuracy(), new ExampleBasedFMeasure());"
   ]
  },
  {
   "cell_type": "code",
   "execution_count": 7,
   "metadata": {},
   "outputs": [
    {
     "data": {
      "text/plain": [
       "Hamming Loss: 0,2896\n",
       "Example-Based Accuracy: 0,4277\n",
       "Example-Based F Measure: 0,5145\n"
      ]
     },
     "execution_count": 7,
     "metadata": {},
     "output_type": "execute_result"
    }
   ],
   "source": [
    "// Evaluate the ClassifierChain classifier\n",
    "evaluator.evaluate(class1, test, metrics)"
   ]
  },
  {
   "cell_type": "code",
   "execution_count": 8,
   "metadata": {},
   "outputs": [
    {
     "data": {
      "text/plain": [
       "Hamming Loss: 0,2120\n",
       "Example-Based Accuracy: 0,5165\n",
       "Example-Based F Measure: 0,5959\n"
      ]
     },
     "execution_count": 8,
     "metadata": {},
     "output_type": "execute_result"
    }
   ],
   "source": [
    "// Evaluate the MLkNN classifier\n",
    "evaluator.evaluate(class2, test, metrics)"
   ]
  },
  {
   "cell_type": "code",
   "execution_count": null,
   "metadata": {},
   "outputs": [],
   "source": []
  }
 ],
 "metadata": {
  "kernelspec": {
   "display_name": "Java",
   "language": "java",
   "name": "java"
  },
  "language_info": {
   "codemirror_mode": "java",
   "file_extension": ".java",
   "mimetype": "text/x-java-source",
   "name": "Java",
   "pygments_lexer": "java",
   "version": "11.0.2+9-LTS"
  }
 },
 "nbformat": 4,
 "nbformat_minor": 2
}
