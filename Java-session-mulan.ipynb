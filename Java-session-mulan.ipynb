{
 "cells": [
  {
   "cell_type": "code",
   "execution_count": 16,
   "metadata": {},
   "outputs": [],
   "source": [
    "import mulan.classifier.*;\n",
    "import mulan.data.*;\n",
    "import mulan.classifier.transformation.ClassifierChain;\n",
    "import mulan.classifier.lazy.MLkNN;\n",
    "import mulan.evaluation.*;\n",
    "import mulan.evaluation.measure.*;\n",
    "import weka.classifiers.trees.J48;\n",
    "import weka.core.Utils"
   ]
  },
  {
   "cell_type": "markdown",
   "metadata": {},
   "source": [
    "# Load and explore the emotions dataset"
   ]
  },
  {
   "cell_type": "code",
   "execution_count": 33,
   "metadata": {},
   "outputs": [
    {
     "data": {
      "text/plain": [
       "Examples: 593\n",
       "Predictors: 72\n",
       "--Nominal: 0\n",
       "--Numeric: 72\n",
       "Labels: 6\n",
       "\n",
       "Cardinality: 1.8684654300168635\n",
       "Density: 0.3114109050028106\n",
       "Distinct Labelsets: 27\n",
       "\n",
       "Percentage of examples with label 1: 0.2917369308600337\n",
       "Percentage of examples with label 2: 0.2799325463743676\n",
       "Percentage of examples with label 3: 0.4451939291736931\n",
       "Percentage of examples with label 4: 0.24957841483979765\n",
       "Percentage of examples with label 5: 0.28330522765598654\n",
       "Percentage of examples with label 6: 0.31871838111298484\n",
       "\n",
       "Examples of cardinality 0: 0.0\n",
       "Examples of cardinality 1: 178.0\n",
       "Examples of cardinality 2: 315.0\n",
       "Examples of cardinality 3: 100.0\n",
       "Examples of cardinality 4: 0.0\n",
       "Examples of cardinality 5: 0.0\n",
       "Examples of cardinality 6: 0.0\n",
       "\n",
       "Examples of combination 000111: 1\n",
       "Examples of combination 000011: 12\n",
       "Examples of combination 000110: 37\n",
       "Examples of combination 001001: 3\n",
       "Examples of combination 001100: 30\n",
       "Examples of combination 001101: 1\n",
       "Examples of combination 110000: 38\n",
       "Examples of combination 100000: 24\n",
       "Examples of combination 110001: 7\n",
       "Examples of combination 010010: 1\n",
       "Examples of combination 011000: 74\n",
       "Examples of combination 011100: 6\n",
       "Examples of combination 111000: 11\n",
       "Examples of combination 001010: 25\n",
       "Examples of combination 001110: 67\n",
       "Examples of combination 001011: 3\n",
       "Examples of combination 000100: 5\n",
       "Examples of combination 000001: 72\n",
       "Examples of combination 100010: 6\n",
       "Examples of combination 101000: 2\n",
       "Examples of combination 100011: 4\n",
       "Examples of combination 010000: 23\n",
       "Examples of combination 010001: 5\n",
       "Examples of combination 010100: 1\n",
       "Examples of combination 100001: 81\n",
       "Examples of combination 001000: 42\n",
       "Examples of combination 000010: 12\n"
      ]
     },
     "execution_count": 33,
     "metadata": {},
     "output_type": "execute_result"
    }
   ],
   "source": [
    "var emotions = new MultiLabelInstances(\"emotions.arff\", \"emotions.xml\");\n",
    "var statistics = new Statistics();\n",
    "statistics.calculateStats(emotions);\n",
    "statistics"
   ]
  },
  {
   "cell_type": "markdown",
   "metadata": {},
   "source": [
    "# Partition the dataset"
   ]
  },
  {
   "cell_type": "code",
   "execution_count": 34,
   "metadata": {},
   "outputs": [
    {
     "data": {
      "text/plain": [
       "Examples: 116\n",
       "Predictors: 72\n",
       "--Nominal: 0\n",
       "--Numeric: 72\n",
       "Labels: 6\n",
       "\n",
       "Cardinality: 1.9137931034482758\n",
       "Density: 0.3189655172413793\n",
       "Distinct Labelsets: 21\n",
       "\n",
       "Percentage of examples with label 1: 0.3017241379310345\n",
       "Percentage of examples with label 2: 0.28448275862068967\n",
       "Percentage of examples with label 3: 0.45689655172413796\n",
       "Percentage of examples with label 4: 0.25862068965517243\n",
       "Percentage of examples with label 5: 0.28448275862068967\n",
       "Percentage of examples with label 6: 0.3275862068965517\n",
       "\n",
       "Examples of cardinality 0: 0.0\n",
       "Examples of cardinality 1: 32.0\n",
       "Examples of cardinality 2: 62.0\n",
       "Examples of cardinality 3: 22.0\n",
       "Examples of cardinality 4: 0.0\n",
       "Examples of cardinality 5: 0.0\n",
       "Examples of cardinality 6: 0.0\n",
       "\n",
       "Examples of combination 000001: 14\n",
       "Examples of combination 000110: 8\n",
       "Examples of combination 000011: 1\n",
       "Examples of combination 001100: 7\n",
       "Examples of combination 100010: 1\n",
       "Examples of combination 101000: 1\n",
       "Examples of combination 110000: 7\n",
       "Examples of combination 100011: 1\n",
       "Examples of combination 110001: 2\n",
       "Examples of combination 100000: 3\n",
       "Examples of combination 010000: 6\n",
       "Examples of combination 011000: 11\n",
       "Examples of combination 011100: 2\n",
       "Examples of combination 010001: 2\n",
       "Examples of combination 100001: 17\n",
       "Examples of combination 111000: 3\n",
       "Examples of combination 001010: 7\n",
       "Examples of combination 001110: 13\n",
       "Examples of combination 001011: 1\n",
       "Examples of combination 001000: 8\n",
       "Examples of combination 000010: 1\n"
      ]
     },
     "execution_count": 34,
     "metadata": {},
     "output_type": "execute_result"
    }
   ],
   "source": [
    "var partitioner = new IterativeStratification();\n",
    "var folds = partitioner.stratify(emotions, 5);\n",
    "statistics.calculateStats(folds[1]);\n",
    "statistics"
   ]
  },
  {
   "cell_type": "markdown",
   "metadata": {},
   "source": [
    "# Load training and testing partitions"
   ]
  },
  {
   "cell_type": "code",
   "execution_count": 3,
   "metadata": {},
   "outputs": [],
   "source": [
    "// Load the train and test partitions from ARFF files\n",
    "var train = new MultiLabelInstances(\"emotions-train.arff\", \"emotions.xml\");\n",
    "var test = new MultiLabelInstances(\"emotions-test.arff\", \"emotions.xml\")"
   ]
  },
  {
   "cell_type": "code",
   "execution_count": 4,
   "metadata": {},
   "outputs": [
    {
     "name": "stdout",
     "output_type": "stream",
     "text": [
      "Instances: 391, Labels: 6, Card: 1.813299232736573\n"
     ]
    }
   ],
   "source": [
    "// Some data exploration\n",
    "System.out.println(\"Instances: \" + train.getNumInstances() + \", Labels: \" + train.getNumLabels() + \", Card: \" + train.getCardinality())"
   ]
  },
  {
   "cell_type": "code",
   "execution_count": 5,
   "metadata": {},
   "outputs": [],
   "source": [
    "// A transformation-based classifier and an adapted classifier\n",
    "var class1 = new ClassifierChain(new J48());\n",
    "var class2 = new MLkNN(5, 1.0);"
   ]
  },
  {
   "cell_type": "code",
   "execution_count": 6,
   "metadata": {},
   "outputs": [],
   "source": [
    "// Train both classifiers\n",
    "class1.build(train);\n",
    "class2.build(train)"
   ]
  },
  {
   "cell_type": "code",
   "execution_count": 7,
   "metadata": {},
   "outputs": [],
   "source": [
    "// Define the evaluation metrics to obtain\n",
    "var evaluator = new Evaluator();\n",
    "List<Measure> metrics = Arrays.asList(new HammingLoss(), new ExampleBasedAccuracy(), new ExampleBasedFMeasure());"
   ]
  },
  {
   "cell_type": "code",
   "execution_count": 8,
   "metadata": {},
   "outputs": [
    {
     "data": {
      "text/plain": [
       "Hamming Loss: 0,2896\n",
       "Example-Based Accuracy: 0,4277\n",
       "Example-Based F Measure: 0,5145\n"
      ]
     },
     "execution_count": 8,
     "metadata": {},
     "output_type": "execute_result"
    }
   ],
   "source": [
    "// Evaluate the ClassifierChain classifier\n",
    "evaluator.evaluate(class1, test, metrics)"
   ]
  },
  {
   "cell_type": "code",
   "execution_count": 9,
   "metadata": {},
   "outputs": [
    {
     "data": {
      "text/plain": [
       "Hamming Loss: 0,2120\n",
       "Example-Based Accuracy: 0,5165\n",
       "Example-Based F Measure: 0,5959\n"
      ]
     },
     "execution_count": 9,
     "metadata": {},
     "output_type": "execute_result"
    }
   ],
   "source": [
    "// Evaluate the MLkNN classifier\n",
    "evaluator.evaluate(class2, test, metrics)"
   ]
  },
  {
   "cell_type": "code",
   "execution_count": 36,
   "metadata": {},
   "outputs": [
    {
     "data": {
      "text/plain": [
       "Hamming Loss: 0,1479\n",
       "Subset Accuracy: 0,4092\n",
       "Example-Based Precision: 0,7592\n",
       "Example-Based Recall: 0,6790\n",
       "Example-Based F Measure: 0,6934\n",
       "Example-Based Accuracy: 0,6240\n",
       "Example-Based Specificity: 0,9318\n",
       "Micro-averaged Precision: 0,8037\n",
       "Micro-averaged Recall: 0,6756\n",
       "Micro-averaged F-Measure: 0,7341\n",
       "Micro-averaged Specificity: 0,9285\n",
       "Macro-averaged Precision: 0,8124\n",
       "amazed-suprised: 0,7222 happy-pleased: 0,7162 relaxing-calm: 0,8152 quiet-still: 0,8659 sad-lonely: 0,9143 angry-aggresive: 0,8407 \n",
       "Macro-averaged Recall: 0,6506\n",
       "amazed-suprised: 0,6555 happy-pleased: 0,4953 relaxing-calm: 0,8929 quiet-still: 0,7978 sad-lonely: 0,3368 angry-aggresive: 0,7252 \n",
       "Macro-averaged F-Measure: 0,7044\n",
       "amazed-suprised: 0,6872 happy-pleased: 0,5856 relaxing-calm: 0,8523 quiet-still: 0,8304 sad-lonely: 0,4923 angry-aggresive: 0,7787 \n",
       "Macro-averaged Specificity: 0,9246\n",
       "amazed-suprised: 0,8897 happy-pleased: 0,9261 relaxing-calm: 0,8475 quiet-still: 0,9636 sad-lonely: 0,9899 angry-aggresive: 0,9308 \n",
       "Average Precision: 0,8619\n",
       "Coverage: 1,3811\n",
       "OneError: 0,1893\n",
       "IsError: 0,3555\n",
       "ErrorSetSize: 0,6777\n",
       "Ranking Loss: 0,1005\n",
       "Mean Average Precision: 0,8087\n",
       "amazed-suprised: 0,7073 happy-pleased: 0,6567 relaxing-calm: 0,9344 quiet-still: 0,9271 sad-lonely: 0,7671 angry-aggresive: 0,8598 \n",
       "Geometric Mean Average Precision: 0,8016\n",
       "amazed-suprised: 0,7073 happy-pleased: 0,6567 relaxing-calm: 0,9344 quiet-still: 0,9271 sad-lonely: 0,7671 angry-aggresive: 0,8598 \n",
       "Mean Average Interpolated Precision: 0,8104\n",
       "amazed-suprised: 0,7385 happy-pleased: 0,6642 relaxing-calm: 0,9226 quiet-still: 0,9137 sad-lonely: 0,7703 angry-aggresive: 0,8534 \n",
       "Geometric Mean Average Interpolated Precision: 0,8048\n",
       "amazed-suprised: 0,7385 happy-pleased: 0,6642 relaxing-calm: 0,9226 quiet-still: 0,9137 sad-lonely: 0,7703 angry-aggresive: 0,8534 \n",
       "Micro-averaged AUC: 0,9226\n",
       "Macro-averaged AUC: 0,9013\n",
       "amazed-suprised: 0,8858 happy-pleased: 0,7873 relaxing-calm: 0,9424 quiet-still: 0,9749 sad-lonely: 0,9091 angry-aggresive: 0,9082 \n",
       "Logarithmic Loss: 2,0458\n"
      ]
     },
     "execution_count": 36,
     "metadata": {},
     "output_type": "execute_result"
    }
   ],
   "source": [
    "evaluator.evaluate(class2, train, test)"
   ]
  },
  {
   "cell_type": "code",
   "execution_count": null,
   "metadata": {},
   "outputs": [],
   "source": []
  }
 ],
 "metadata": {
  "kernelspec": {
   "display_name": "Java",
   "language": "java",
   "name": "java"
  },
  "language_info": {
   "codemirror_mode": "java",
   "file_extension": ".java",
   "mimetype": "text/x-java-source",
   "name": "Java",
   "pygments_lexer": "java",
   "version": "11.0.1+13"
  }
 },
 "nbformat": 4,
 "nbformat_minor": 2
}
